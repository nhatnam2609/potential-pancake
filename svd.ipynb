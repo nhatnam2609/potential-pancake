{
 "cells": [
  {
   "cell_type": "code",
   "execution_count": 2,
   "id": "c37fe2b6",
   "metadata": {},
   "outputs": [
    {
     "name": "stdout",
     "output_type": "stream",
     "text": [
      "Difference between original and reconstructed data:\n",
      " [[ 8.88178420e-16  1.77635684e-15  0.00000000e+00]\n",
      " [ 0.00000000e+00  8.88178420e-16  0.00000000e+00]\n",
      " [ 0.00000000e+00  0.00000000e+00  0.00000000e+00]\n",
      " [ 0.00000000e+00 -1.77635684e-15  0.00000000e+00]]\n"
     ]
    }
   ],
   "source": [
    "import numpy as np\n",
    "\n",
    "# Sample data matrix (4 samples, 3 features)\n",
    "X = np.array([\n",
    "    [1, 2, 3],\n",
    "    [4, 5, 6],\n",
    "    [7, 8, 9],\n",
    "    [10, 11, 12]\n",
    "])\n",
    "\n",
    "# Step 1: Prepare the data matrix\n",
    "# Subtract the mean to center the data\n",
    "X_centered = X - np.mean(X, axis=0)\n",
    "\n",
    "# (Optional) Standardize each feature to have unit variance\n",
    "X_standardized = X_centered #/ np.std(X_centered, axis=0)\n",
    "\n",
    "# Step 2: Compute the SVD\n",
    "U, S, Vt = np.linalg.svd(X_standardized, full_matrices=False)\n",
    "V = Vt.T\n",
    "\n",
    "# Step 3: Find the principal components (PCs)\n",
    "# PCs are given by the columns of matrix V\n",
    "\n",
    "# Step 4: Project the data onto the first k principal components\n",
    "k = 2\n",
    "X_projected = np.dot(X_standardized, V[:, :k])\n",
    "\n",
    "# Inverse-transform the projected data back to the original feature space\n",
    "X_reconstructed = np.dot(X_projected, V[:, :k].T)\n",
    "\n",
    "# Un-standardize the reconstructed data (if the original data was standardized)\n",
    "# X_reconstructed = X_reconstructed * np.std(X_centered, axis=0)\n",
    "\n",
    "# Add the mean back to un-center the reconstructed data\n",
    "X_reconstructed += np.mean(X, axis=0)\n",
    "\n",
    "# Calculate the difference between the original data and the reconstructed data\n",
    "difference = X - X_reconstructed\n",
    "\n",
    "# Print the difference matrix\n",
    "print(\"Difference between original and reconstructed data:\\n\", difference)\n"
   ]
  },
  {
   "cell_type": "code",
   "execution_count": 3,
   "id": "1e044860",
   "metadata": {},
   "outputs": [
    {
     "name": "stdout",
     "output_type": "stream",
     "text": [
      "Projected data:\n",
      " [[-7.79422863e+00  1.69309011e-15]\n",
      " [-2.59807621e+00  6.38378239e-16]\n",
      " [ 2.59807621e+00 -6.38378239e-16]\n",
      " [ 7.79422863e+00 -1.69309011e-15]]\n"
     ]
    }
   ],
   "source": [
    "import numpy as np\n",
    "\n",
    "def pca(X, k):\n",
    "    # Step 1: Prepare the data matrix\n",
    "    # Subtract the mean to center the data\n",
    "    X_centered = X - np.mean(X, axis=0)\n",
    "\n",
    "    # Step 2: Compute the SVD\n",
    "    U, S, Vt = np.linalg.svd(X_centered, full_matrices=False)\n",
    "    V = Vt.T\n",
    "\n",
    "    # Step 3: Find the principal components (PCs)\n",
    "    # PCs are given by the columns of matrix V\n",
    "\n",
    "    # Step 4: Project the data onto the first k principal components\n",
    "    X_projected = np.dot(X_centered, V[:, :k])\n",
    "\n",
    "    return X_projected, V[:, :k]\n",
    "\n",
    "# Sample data matrix (4 samples, 3 features)\n",
    "X = np.array([\n",
    "    [1, 2, 3],\n",
    "    [4, 5, 6],\n",
    "    [7, 8, 9],\n",
    "    [10, 11, 12]\n",
    "])\n",
    "\n",
    "# Perform PCA with k=2 principal components\n",
    "k = 2\n",
    "X_projected, principal_components = pca(X, k)\n",
    "\n",
    "print(\"Projected data:\\n\", X_projected)\n"
   ]
  },
  {
   "cell_type": "code",
   "execution_count": 4,
   "id": "26141813",
   "metadata": {},
   "outputs": [
    {
     "data": {
      "text/plain": [
       "(4, 3)"
      ]
     },
     "execution_count": 4,
     "metadata": {},
     "output_type": "execute_result"
    }
   ],
   "source": [
    "X.shape"
   ]
  },
  {
   "cell_type": "code",
   "execution_count": 5,
   "id": "dd8efc9f",
   "metadata": {},
   "outputs": [
    {
     "data": {
      "text/plain": [
       "(4, 2)"
      ]
     },
     "execution_count": 5,
     "metadata": {},
     "output_type": "execute_result"
    }
   ],
   "source": [
    "X_projected.shape"
   ]
  },
  {
   "cell_type": "code",
   "execution_count": 6,
   "id": "59e5af93",
   "metadata": {},
   "outputs": [
    {
     "data": {
      "text/plain": [
       "(3, 2)"
      ]
     },
     "execution_count": 6,
     "metadata": {},
     "output_type": "execute_result"
    }
   ],
   "source": [
    "principal_components.shape"
   ]
  },
  {
   "cell_type": "code",
   "execution_count": 7,
   "id": "04e8083b",
   "metadata": {},
   "outputs": [
    {
     "name": "stdout",
     "output_type": "stream",
     "text": [
      "Difference between original and reconstructed data:\n",
      " [[ 8.88178420e-16  1.77635684e-15  0.00000000e+00]\n",
      " [ 0.00000000e+00  8.88178420e-16  0.00000000e+00]\n",
      " [ 0.00000000e+00  0.00000000e+00  0.00000000e+00]\n",
      " [ 0.00000000e+00 -1.77635684e-15  0.00000000e+00]]\n"
     ]
    }
   ],
   "source": [
    "X_reconstructed = np.dot(X_projected, V[:, :k].T)\n",
    "\n",
    "# Un-standardize the reconstructed data (if the original data was standardized)\n",
    "# X_reconstructed = X_reconstructed * np.std(X_centered, axis=0)\n",
    "\n",
    "# Add the mean back to un-center the reconstructed data\n",
    "X_reconstructed += np.mean(X, axis=0)\n",
    "\n",
    "# Calculate the difference between the original data and the reconstructed data\n",
    "difference = X - X_reconstructed\n",
    "\n",
    "# Print the difference matrix\n",
    "print(\"Difference between original and reconstructed data:\\n\", difference)"
   ]
  },
  {
   "cell_type": "code",
   "execution_count": 29,
   "id": "1c87f49c",
   "metadata": {},
   "outputs": [
    {
     "name": "stdout",
     "output_type": "stream",
     "text": [
      "U:\n",
      " [[-1.40876677e-01  8.24714352e-01 -3.34346129e-08]\n",
      " [-3.43946294e-01  4.26263940e-01 -2.14936797e-08]\n",
      " [-5.47015912e-01  2.78135286e-02 -7.16455991e-09]\n",
      " [-7.50085529e-01 -3.70636883e-01  0.00000000e+00]]\n",
      "Sigma:\n",
      " [[2.54624074e+01 0.00000000e+00 0.00000000e+00]\n",
      " [0.00000000e+00 1.29066168e+00 0.00000000e+00]\n",
      " [0.00000000e+00 0.00000000e+00 1.85952472e-07]]\n",
      "Vt:\n",
      " [[-0.50453315 -0.5745157  -0.64449826]\n",
      " [-0.76077568 -0.05714052  0.64649464]\n",
      " [ 0.40824829 -0.81649658  0.40824829]]\n",
      "Reconstructed A:\n",
      " [[ 1.  2.  3.]\n",
      " [ 4.  5.  6.]\n",
      " [ 7.  8.  9.]\n",
      " [10. 11. 12.]]\n"
     ]
    }
   ],
   "source": [
    "import numpy as np\n",
    "\n",
    "def svd(A, tol=1e-9):\n",
    "    # Compute the covariance matrix\n",
    "    C = np.dot(A.T, A)\n",
    "\n",
    "    # Compute the eigenvalues and eigenvectors of the covariance matrix\n",
    "    eigenvalues, eigenvectors = np.linalg.eig(C)\n",
    "\n",
    "    # Sort the eigenvalues and eigenvectors in descending order\n",
    "    sort_indices = np.argsort(eigenvalues)[::-1]\n",
    "    eigenvalues = eigenvalues[sort_indices]\n",
    "    eigenvectors = eigenvectors[:, sort_indices]\n",
    "\n",
    "    # Calculate singular values\n",
    "    singular_values = np.sqrt(eigenvalues)\n",
    "\n",
    "    # Compute the matrix V\n",
    "    V = eigenvectors\n",
    "\n",
    "    # Compute the matrix U\n",
    "    U = np.zeros((A.shape[0], A.shape[1]))\n",
    "    for i in range(A.shape[1]):\n",
    "        if singular_values[i] > tol:\n",
    "            U[:, i] = np.dot(A, V[:, i]) / singular_values[i]\n",
    "\n",
    "    # Compute the matrix Sigma (Σ)\n",
    "    Sigma = np.diag(singular_values)\n",
    "\n",
    "    return U, Sigma, V.T\n",
    "\n",
    "# Sample data matrix (4 samples, 3 features)\n",
    "A = np.array([\n",
    "    [1, 2, 3],\n",
    "    [4, 5, 6],\n",
    "    [7, 8, 9],\n",
    "    [10, 11, 12]\n",
    "])\n",
    "\n",
    "# Compute the SVD of the data matrix A\n",
    "U, Sigma, Vt = svd(A)\n",
    "\n",
    "# Check the decomposition: A = UΣV^T\n",
    "reconstructed_A = np.dot(U, np.dot(Sigma, Vt))\n",
    "\n",
    "print(\"U:\\n\", U)\n",
    "print(\"Sigma:\\n\", Sigma)\n",
    "print(\"Vt:\\n\", Vt)\n",
    "print(\"Reconstructed A:\\n\", reconstructed_A)\n"
   ]
  },
  {
   "cell_type": "code",
   "execution_count": 42,
   "id": "a3b08d54",
   "metadata": {},
   "outputs": [
    {
     "data": {
      "image/png": "[encoded data removed]",
      "text/plain": [
       "<PIL.Image.Image image mode=L size=130x130>"
      ]
     },
     "metadata": {},
     "output_type": "display_data"
    }
   ],
   "source": [
    "import numpy as np\n",
    "from PIL import Image\n",
    "from IPython.display import display\n",
    "# def svd_compression(A, k):\n",
    "#     U, Sigma, Vt = svd(A)\n",
    "#     compressed_A = np.dot(U[:, :k], np.dot(np.diag(Sigma[:k]), Vt[:k, :]))\n",
    "#     return compressed_A\n",
    "# def svd_compression(A, k):\n",
    "#     U, Sigma, Vt = svd(A)\n",
    "    \n",
    "#     compressed_A = np.zeros_like(A)\n",
    "#     for i in range(k):\n",
    "#         compressed_A += Sigma[i] * np.outer(U[:, i], Vt[i, :])\n",
    "        \n",
    "#     return compressed_A\n",
    "def svd_compression(A, k):\n",
    "    U, Sigma, Vt = np.linalg.svd(A, full_matrices=False)\n",
    "    compressed_A = np.dot(U[:, :k], np.dot(np.diag(Sigma[:k]), Vt[:k, :]))\n",
    "    return compressed_A\n",
    "# Load the image\n",
    "image = Image.open(\"images.png\")\n",
    "\n",
    "# Convert the image to grayscale\n",
    "gray_image = image.convert(\"L\")\n",
    "\n",
    "# Convert the image to a NumPy array\n",
    "image_array = np.array(gray_image, dtype=np.float64)\n",
    "\n",
    "# Perform SVD compression with k most significant singular values\n",
    "k = 50\n",
    "compressed_image_array = svd(image_array, k)\n",
    "\n",
    "# Clip the values to be in the range of [0, 255] and convert to uint8\n",
    "compressed_image_array = np.clip(compressed_image_array, 0, 255).astype(np.uint8)\n",
    "\n",
    "# Convert the compressed image array back to a PIL Image\n",
    "compressed_image = Image.fromarray(compressed_image_array, mode=\"L\")\n",
    "\n",
    "# Save the compressed image\n",
    "display(compressed_image)\n"
   ]
  },
  {
   "cell_type": "code",
   "execution_count": null,
   "id": "822d6a25",
   "metadata": {},
   "outputs": [],
   "source": [
    "compressed_image.shape"
   ]
  },
  {
   "cell_type": "code",
   "execution_count": 30,
   "id": "ee24e6a9",
   "metadata": {},
   "outputs": [],
   "source": [
    "U, Sigma, Vt = np.linalg.svd(A, full_matrices=False)"
   ]
  },
  {
   "cell_type": "code",
   "execution_count": 33,
   "id": "d4ba53c3",
   "metadata": {},
   "outputs": [
    {
     "data": {
      "text/plain": [
       "array([[-0.50453315, -0.5745157 , -0.64449826],\n",
       "       [-0.76077568, -0.05714052,  0.64649464],\n",
       "       [-0.40824829,  0.81649658, -0.40824829]])"
      ]
     },
     "execution_count": 33,
     "metadata": {},
     "output_type": "execute_result"
    }
   ],
   "source": [
    "Vt"
   ]
  },
  {
   "cell_type": "code",
   "execution_count": 32,
   "id": "e2c613db",
   "metadata": {},
   "outputs": [
    {
     "data": {
      "text/plain": [
       "array([2.54624074e+01, 1.29066168e+00, 1.38648772e-15])"
      ]
     },
     "execution_count": 32,
     "metadata": {},
     "output_type": "execute_result"
    }
   ],
   "source": [
    "Sigma"
   ]
  },
  {
   "cell_type": "code",
   "execution_count": 31,
   "id": "11104b77",
   "metadata": {},
   "outputs": [
    {
     "data": {
      "text/plain": [
       "array([[-0.14087668,  0.82471435,  0.53358462],\n",
       "       [-0.34394629,  0.42626394, -0.8036038 ],\n",
       "       [-0.54701591,  0.02781353,  0.00645373],\n",
       "       [-0.75008553, -0.37063688,  0.26356544]])"
      ]
     },
     "execution_count": 31,
     "metadata": {},
     "output_type": "execute_result"
    }
   ],
   "source": [
    "U"
   ]
  },
  {
   "cell_type": "code",
   "execution_count": 34,
   "id": "8799c99b",
   "metadata": {},
   "outputs": [],
   "source": [
    "U, Sigma, Vt = svd(A)"
   ]
  },
  {
   "cell_type": "code",
   "execution_count": 35,
   "id": "9526a920",
   "metadata": {},
   "outputs": [
    {
     "data": {
      "text/plain": [
       "array([[-1.40876677e-01,  8.24714352e-01, -3.34346129e-08],\n",
       "       [-3.43946294e-01,  4.26263940e-01, -2.14936797e-08],\n",
       "       [-5.47015912e-01,  2.78135286e-02, -7.16455991e-09],\n",
       "       [-7.50085529e-01, -3.70636883e-01,  0.00000000e+00]])"
      ]
     },
     "execution_count": 35,
     "metadata": {},
     "output_type": "execute_result"
    }
   ],
   "source": [
    "U"
   ]
  },
  {
   "cell_type": "code",
   "execution_count": 36,
   "id": "5c05ed29",
   "metadata": {},
   "outputs": [
    {
     "data": {
      "text/plain": [
       "array([[2.54624074e+01, 0.00000000e+00, 0.00000000e+00],\n",
       "       [0.00000000e+00, 1.29066168e+00, 0.00000000e+00],\n",
       "       [0.00000000e+00, 0.00000000e+00, 1.85952472e-07]])"
      ]
     },
     "execution_count": 36,
     "metadata": {},
     "output_type": "execute_result"
    }
   ],
   "source": [
    "Sigma"
   ]
  },
  {
   "cell_type": "code",
   "execution_count": 104,
   "id": "37c8b992",
   "metadata": {},
   "outputs": [
    {
     "name": "stdout",
     "output_type": "stream",
     "text": [
      "d->ddd\n"
     ]
    },
    {
     "data": {
      "image/png": "[encoded data removed]",
      "text/plain": [
       "<PIL.Image.Image image mode=L size=130x130>"
      ]
     },
     "metadata": {},
     "output_type": "display_data"
    }
   ],
   "source": [
    "import numpy as np\n",
    "from PIL import Image\n",
    "from IPython.display import display\n",
    "\n",
    "# def svd(A, tol=1e-9):\n",
    "#     C = np.dot(A.T, A)\n",
    "#     eigenvalues, eigenvectors = np.linalg.eig(C)\n",
    "    \n",
    "#     # Sort the eigenvalues and eigenvectors in descending order\n",
    "#     sorted_indices = np.argsort(eigenvalues)[::-1]\n",
    "#     eigenvalues = eigenvalues[sorted_indices]\n",
    "#     eigenvectors = eigenvectors[:, sorted_indices]\n",
    "    \n",
    "#     singular_values = np.sqrt(eigenvalues)\n",
    "#     V = eigenvectors\n",
    "#     U = np.zeros((A.shape[0], A.shape[1]))\n",
    "#     for i in range(A.shape[1]):\n",
    "#         if singular_values[i] > tol:\n",
    "#             U[:, i] = np.dot(A, V[:, i]) / singular_values[i]\n",
    "#     Sigma = np.diag(singular_values)\n",
    "#     return U, Sigma, V.T\n",
    "\n",
    "\n",
    "def svd_compression(A, k):\n",
    "    U, Sigma, Vt = svd(A)\n",
    "    compressed_A = np.zeros_like(A)\n",
    "    for i in range(k):\n",
    "        compressed_A += Sigma[i] * np.outer(U[:, i], Vt[i, :])\n",
    "    return compressed_A\n",
    "\n",
    "# Load the image\n",
    "image = Image.open(\"images.png\")\n",
    "\n",
    "# Convert the image to grayscale\n",
    "gray_image = image.convert(\"L\")\n",
    "\n",
    "# Convert the image to a NumPy array\n",
    "image_array = np.array(gray_image, dtype=np.float64)\n",
    "\n",
    "# Perform SVD compression with k most significant singular values\n",
    "k = 50\n",
    "compressed_image_array = svd_compression(image_array, k)\n",
    "\n",
    "# Clip the values to be in the range of [0, 255] and convert to uint8\n",
    "compressed_image_array = np.clip(compressed_image_array, 0, 255)\n",
    "\n",
    "# Normalize the values to be between 0 and 1\n",
    "compressed_image_array /= 255.0\n",
    "\n",
    "# Convert the compressed image array back to a PIL Image\n",
    "compressed_image = Image.fromarray(np.uint8(compressed_image_array * 255), mode=\"L\")\n",
    "\n",
    "# Display the compressed image\n",
    "display(compressed_image)\n"
   ]
  },
  {
   "cell_type": "code",
   "execution_count": 82,
   "id": "77a11722",
   "metadata": {},
   "outputs": [],
   "source": [
    "from numpy.core import asarray,single, double,inexact,complexfloating\n",
    "from numpy.linalg import _umath_linalg"
   ]
  },
  {
   "cell_type": "code",
   "execution_count": 39,
   "id": "efc474d4",
   "metadata": {},
   "outputs": [],
   "source": [
    "def svd(A, i):\n",
    "    Ui = A.dot(A.transpose())\n",
    "    Vi = A.transpose().dot(A)\n",
    "    eig_values, U = np.linalg.eig(Ui)\n",
    "    U = U.real\n",
    "    eig_values.real\n",
    "    V_eig_values, V = np.linalg.eig(Vi)\n",
    "    V = V.real\n",
    "    V_eig_values.real\n",
    "    Si = np.diag(eig_values)  #Diagonal matrix with the diagonal elements as the eigen values\n",
    "    Si = np.sqrt(Si)\n",
    "    S = np.zeros((A.shape[0], A.shape[1]))  #Creating a rectangular matrix that'll act as the base for the actual Sigma matrix\n",
    "    S[:A.shape[0], :A.shape[0]] = Si \n",
    "    comp_image = np.dot(U[:,:i],(np.dot(S[:i,:i],V[:,:i].transpose())))\n",
    "    return comp_image"
   ]
  },
  {
   "cell_type": "code",
   "execution_count": 102,
   "id": "7e3c8725",
   "metadata": {},
   "outputs": [],
   "source": [
    "_real_types_map = {single : single,\n",
    "                   double : double}\n",
    "\n",
    "def _realType(t, default=double):\n",
    "    return _real_types_map.get(t, default)\n",
    "def isComplexType(t):\n",
    "    return issubclass(t, complexfloating)\n",
    "# def _makearray(a):\n",
    "#     new = asarray(a)\n",
    "#     wrap = getattr(a, \"__array_prepare__\", new.__array_wrap__)\n",
    "#     return new, wrap\n",
    "# def _assert_stacked_2d(*arrays):\n",
    "#     for a in arrays:\n",
    "#         if a.ndim < 2:\n",
    "#             raise LinAlgError('%d-dimensional array given. Array must be '\n",
    "#                     'at least two-dimensional' % a.ndim)\n",
    "            \n",
    "def _commonType(*arrays):\n",
    "    # in lite version, use higher precision (always double or cdouble)\n",
    "    result_type = single\n",
    "    is_complex = False\n",
    "    for a in arrays:\n",
    "        if issubclass(a.dtype.type, inexact):\n",
    "            if isComplexType(a.dtype.type):\n",
    "                is_complex = True\n",
    "            rt = _realType(a.dtype.type, default=None)\n",
    "            if rt is None:\n",
    "                # unsupported inexact scalar\n",
    "                raise TypeError(\"array type %s is unsupported in linalg\" %\n",
    "                        (a.dtype.name,))\n",
    "        else:\n",
    "            rt = double\n",
    "        if rt is double:\n",
    "            result_type = double\n",
    "    if is_complex:\n",
    "        t = cdouble\n",
    "        result_type = _complex_types_map[result_type]\n",
    "    else:\n",
    "        t = double\n",
    "    return t, result_type"
   ]
  },
  {
   "cell_type": "code",
   "execution_count": 103,
   "id": "2c5a0cb3",
   "metadata": {},
   "outputs": [],
   "source": [
    "def svd(a):\n",
    "    import numpy as _nx\n",
    "#     a, wrap = _makearray(a)\n",
    "#     _assert_stacked_2d(a)\n",
    "    t, result_t = _commonType(a)\n",
    "\n",
    "    m, n = a.shape[-2:]\n",
    "\n",
    "    if m < n:\n",
    "        gufunc = _umath_linalg.svd_m_s\n",
    "    else:\n",
    "        gufunc = _umath_linalg.svd_n_s\n",
    "\n",
    "    signature = 'D->DdD' if isComplexType(t) else 'd->ddd'\n",
    "    print(signature)\n",
    "    u, s, vh = gufunc(a, signature=signature)\n",
    "    u = u.astype(result_t, copy=False)\n",
    "    s = s.astype(_realType(result_t), copy=False)\n",
    "    vh = vh.astype(result_t, copy=False)\n",
    "    return u, s, vh"
   ]
  },
  {
   "cell_type": "code",
   "execution_count": 92,
   "id": "de49aeb6",
   "metadata": {},
   "outputs": [],
   "source": [
    "A_test = np.copy(image_array)"
   ]
  },
  {
   "cell_type": "code",
   "execution_count": 94,
   "id": "dc614cbd",
   "metadata": {},
   "outputs": [
    {
     "data": {
      "text/plain": [
       "dtype('float64')"
      ]
     },
     "execution_count": 94,
     "metadata": {},
     "output_type": "execute_result"
    }
   ],
   "source": [
    "A_test"
   ]
  },
  {
   "cell_type": "code",
   "execution_count": 95,
   "id": "da59dae3",
   "metadata": {},
   "outputs": [],
   "source": [
    "A_test, wrap = _makearray(A_test)"
   ]
  },
  {
   "cell_type": "code",
   "execution_count": 96,
   "id": "a53b7a63",
   "metadata": {},
   "outputs": [
    {
     "data": {
      "text/plain": [
       "<function ndarray.__array_prepare__>"
      ]
     },
     "execution_count": 96,
     "metadata": {},
     "output_type": "execute_result"
    }
   ],
   "source": [
    "wrap"
   ]
  },
  {
   "cell_type": "code",
   "execution_count": 90,
   "id": "a1c4c6a7",
   "metadata": {},
   "outputs": [
    {
     "ename": "NameError",
     "evalue": "name 'a' is not defined",
     "output_type": "error",
     "traceback": [
      "\u001b[1;31m---------------------------------------------------------------------------\u001b[0m",
      "\u001b[1;31mNameError\u001b[0m                                 Traceback (most recent call last)",
      "Cell \u001b[1;32mIn[90], line 1\u001b[0m\n\u001b[1;32m----> 1\u001b[0m a, wrap \u001b[38;5;241m=\u001b[39m _makearray(\u001b[43ma\u001b[49m)\n\u001b[0;32m      2\u001b[0m _assert_stacked_2d(a)\n\u001b[0;32m      3\u001b[0m t, result_t \u001b[38;5;241m=\u001b[39m _commonType(a)\n",
      "\u001b[1;31mNameError\u001b[0m: name 'a' is not defined"
     ]
    }
   ],
   "source": [
    "a, wrap = _makearray(a)\n",
    "_assert_stacked_2d(a)\n",
    "t, result_t = _commonType(a)\n",
    "\n",
    "m, n = a.shape[-2:]\n",
    "\n",
    "if m < n:\n",
    "    gufunc = _umath_linalg.svd_m_s\n",
    "else:\n",
    "    gufunc = _umath_linalg.svd_n_s\n",
    "\n",
    "signature = 'D->DdD' if isComplexType(t) else 'd->ddd'\n",
    "u, s, vh = gufunc(a, signature=signature)\n",
    "u = u.astype(result_t, copy=False)\n",
    "s = s.astype(_realType(result_t), copy=False)\n",
    "vh = vh.astype(result_t, copy=False)"
   ]
  },
  {
   "cell_type": "code",
   "execution_count": null,
   "id": "8a701564",
   "metadata": {},
   "outputs": [],
   "source": []
  }
 ],
 "metadata": {
  "kernelspec": {
   "display_name": "Python 3 (ipykernel)",
   "language": "python",
   "name": "python3"
  },
  "language_info": {
   "codemirror_mode": {
    "name": "ipython",
    "version": 3
   },
   "file_extension": ".py",
   "mimetype": "text/x-python",
   "name": "python",
   "nbconvert_exporter": "python",
   "pygments_lexer": "ipython3",
   "version": "3.10.9"
  }
 },
 "nbformat": 4,
 "nbformat_minor": 5
}
